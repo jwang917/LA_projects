{
 "cells": [
  {
   "cell_type": "code",
   "execution_count": 1,
   "metadata": {},
   "outputs": [],
   "source": [
    "import math\n"
   ]
  },
  {
   "cell_type": "code",
   "execution_count": 5,
   "metadata": {},
   "outputs": [
    {
     "name": "stdout",
     "output_type": "stream",
     "text": [
      "0.9513029883089883\n"
     ]
    }
   ],
   "source": [
    "a = math.sqrt(17)*math.sqrt(26)\n",
    "b = 20/a\n",
    "print (b)"
   ]
  },
  {
   "cell_type": "code",
   "execution_count": 12,
   "metadata": {},
   "outputs": [
    {
     "name": "stdout",
     "output_type": "stream",
     "text": [
      "56.404923068375915\n"
     ]
    }
   ],
   "source": [
    "theta= math.acos(b)\n",
    "print(theta*180)"
   ]
  },
  {
   "cell_type": "code",
   "execution_count": 13,
   "metadata": {},
   "outputs": [
    {
     "data": {
      "text/plain": [
       "0.853220107722584"
      ]
     },
     "execution_count": 13,
     "metadata": {},
     "output_type": "execute_result"
    }
   ],
   "source": [
    "math.cos(56)\n",
    "\n"
   ]
  },
  {
   "cell_type": "code",
   "execution_count": 35,
   "metadata": {},
   "outputs": [
    {
     "name": "stdout",
     "output_type": "stream",
     "text": [
      "[[  1   2   3   4   5   6   7   8   9  10]\n",
      " [ 11  12  13  14  15  16  17  18  19  20]\n",
      " [ 21  22  23  24  25  26  27  28  29  30]\n",
      " [ 31  32  33  34  35  36  37  38  39  40]\n",
      " [ 41  42  43  44  45  46  47  48  49  50]\n",
      " [ 51  52  53  54  55  56  57  58  59  60]\n",
      " [ 61  62  63  64  65  66  67  68  69  70]\n",
      " [ 71  72  73  74  75  76  77  78  79  80]\n",
      " [ 81  82  83  84  85  86  87  88  89  90]\n",
      " [ 91  92  93  94  95  96  97  98  99 100]]\n"
     ]
    },
    {
     "data": {
      "text/plain": [
       "array([[ 3355,  3410,  3465,  3520,  3575,  3630,  3685,  3740,  3795,\n",
       "         3850],\n",
       "       [ 7955,  8110,  8265,  8420,  8575,  8730,  8885,  9040,  9195,\n",
       "         9350],\n",
       "       [12555, 12810, 13065, 13320, 13575, 13830, 14085, 14340, 14595,\n",
       "        14850],\n",
       "       [17155, 17510, 17865, 18220, 18575, 18930, 19285, 19640, 19995,\n",
       "        20350],\n",
       "       [21755, 22210, 22665, 23120, 23575, 24030, 24485, 24940, 25395,\n",
       "        25850],\n",
       "       [26355, 26910, 27465, 28020, 28575, 29130, 29685, 30240, 30795,\n",
       "        31350],\n",
       "       [30955, 31610, 32265, 32920, 33575, 34230, 34885, 35540, 36195,\n",
       "        36850],\n",
       "       [35555, 36310, 37065, 37820, 38575, 39330, 40085, 40840, 41595,\n",
       "        42350],\n",
       "       [40155, 41010, 41865, 42720, 43575, 44430, 45285, 46140, 46995,\n",
       "        47850],\n",
       "       [44755, 45710, 46665, 47620, 48575, 49530, 50485, 51440, 52395,\n",
       "        53350]])"
      ]
     },
     "execution_count": 35,
     "metadata": {},
     "output_type": "execute_result"
    }
   ],
   "source": [
    "# REFERENCE OF CREATION OF MATRIX AND LINALG LIBRARY.\n",
    "# https://docs.scipy.org/doc/numpy-1.13.0/user/quickstart.html\n",
    "\n",
    "import numpy as np\n",
    "\n",
    "matrixA=np.arange(1,101,1).reshape(10,10)\n",
    "print(matrixA)\n",
    "\n",
    "matrixA.shape\n",
    "matrixA.ndim\n",
    "matrixA.size\n",
    "matrixA[1]\n",
    "\n",
    "import numpy.linalg as la"
   ]
  },
  {
   "cell_type": "code",
   "execution_count": 83,
   "metadata": {},
   "outputs": [
    {
     "name": "stdout",
     "output_type": "stream",
     "text": [
      "(3, 2)\n",
      "0\n",
      "1\n"
     ]
    }
   ],
   "source": [
    "#check a matrix shape\n",
    "\n",
    "#(c)a 3*2 matrix\n",
    "c = np.array([[1,2],[3,5],[5,6]])\n",
    "print(np.shape(c))\n",
    "shape = np.shape(c)\n",
    "type(shape)\n",
    "\n",
    "#write a new function: chkshape(array), output -1 means error, 1 it is square, 0 it is rectangle.\n",
    "\n",
    "def chkshape(array):\n",
    "    if np.ndim(array) != 2:\n",
    "        print(\"Error, the matrix is not 2-Dimension.\")\n",
    "        return -1\n",
    "    else:\n",
    "        shape = np.shape(array)\n",
    "        if (shape[0]-shape[1]) == 0:\n",
    "            return 1\n",
    "        else: \n",
    "            return 0\n",
    "\n",
    "print(chkshape(c))\n",
    "print(chkshape(matrixA))"
   ]
  },
  {
   "cell_type": "code",
   "execution_count": 10,
   "metadata": {},
   "outputs": [
    {
     "name": "stdout",
     "output_type": "stream",
     "text": [
      "[1 2]\n",
      "True\n"
     ]
    },
    {
     "ename": "NameError",
     "evalue": "name 'c' is not defined",
     "output_type": "error",
     "traceback": [
      "\u001b[0;31m---------------------------------------------------------------------------\u001b[0m",
      "\u001b[0;31mNameError\u001b[0m                                 Traceback (most recent call last)",
      "\u001b[0;32m<ipython-input-10-ff4514755fb9>\u001b[0m in \u001b[0;36m<module>\u001b[0;34m()\u001b[0m\n\u001b[1;32m     22\u001b[0m     \u001b[0;32mreturn\u001b[0m \u001b[0;32mTrue\u001b[0m\u001b[0;34m\u001b[0m\u001b[0m\n\u001b[1;32m     23\u001b[0m \u001b[0mcheckUpper\u001b[0m\u001b[0;34m(\u001b[0m\u001b[0mye\u001b[0m\u001b[0;34m)\u001b[0m\u001b[0;34m\u001b[0m\u001b[0m\n\u001b[0;32m---> 24\u001b[0;31m \u001b[0mcheckUpper\u001b[0m\u001b[0;34m(\u001b[0m\u001b[0mc\u001b[0m\u001b[0;34m)\u001b[0m\u001b[0;34m\u001b[0m\u001b[0m\n\u001b[0m",
      "\u001b[0;31mNameError\u001b[0m: name 'c' is not defined"
     ]
    }
   ],
   "source": [
    "#Check upper triangle matrix\n",
    "ye = np.array([[1,-3,4],[0,1,2],[0,0,1]])\n",
    "ye[0]\n",
    "print(ye[1,1:])\n",
    "\n",
    "for i in range (1,3):\n",
    "    for j in range(0,i):\n",
    "        if ye[i][j]!=0:\n",
    "            print(False)\n",
    "print (True)\n",
    "\n",
    "#write a function to check the upper triangle property of any given matrix.\n",
    "#Output: True as upper tirangle shape, False as not upper triangle shape.\n",
    "# Learned from [https://www.geeksforgeeks.org/program-check-matrix-upper-triangular/]\n",
    "def checkUpper(array):\n",
    "    #after confirmation of being square matrix.\n",
    "    dim = np.shape(ye)[0]\n",
    "    for i in range(1,dim):\n",
    "        for j in range(0,i):\n",
    "            if array[i][j]!=0:\n",
    "                return False\n",
    "    return True\n",
    "checkUpper(ye)\n",
    "checkUpper(c)"
   ]
  },
  {
   "cell_type": "code",
   "execution_count": 101,
   "metadata": {},
   "outputs": [
    {
     "data": {
      "text/plain": [
       "numpy.ndarray"
      ]
     },
     "execution_count": 101,
     "metadata": {},
     "output_type": "execute_result"
    }
   ],
   "source": [
    "shape = np.shape(ye)\n",
    "shape[0]\n",
    "type(ye[0])\n",
    "aug = np.append(ye[0],1)\n",
    "type(aug)"
   ]
  },
  {
   "cell_type": "code",
   "execution_count": 112,
   "metadata": {},
   "outputs": [
    {
     "data": {
      "text/plain": [
       "3"
      ]
     },
     "execution_count": 112,
     "metadata": {},
     "output_type": "execute_result"
    }
   ],
   "source": [
    "vetA = np.transpose(np.array([7,2,5]))\n",
    "np.shape(vetA)[0]\n",
    "np.shape(ye)[1]"
   ]
  },
  {
   "cell_type": "code",
   "execution_count": 13,
   "metadata": {},
   "outputs": [
    {
     "name": "stdout",
     "output_type": "stream",
     "text": [
      "[ 1 -3  4  1]\n",
      "[ 0  1  2 -3]\n",
      "[0 0 1 5]\n"
     ]
    },
    {
     "ename": "IndexError",
     "evalue": "index 3 is out of bounds for axis 0 with size 3",
     "output_type": "error",
     "traceback": [
      "\u001b[0;31m---------------------------------------------------------------------------\u001b[0m",
      "\u001b[0;31mIndexError\u001b[0m                                Traceback (most recent call last)",
      "\u001b[0;32m<ipython-input-13-52f6d1586d59>\u001b[0m in \u001b[0;36m<module>\u001b[0;34m()\u001b[0m\n\u001b[1;32m      9\u001b[0m         \u001b[0mprint\u001b[0m\u001b[0;34m(\u001b[0m\u001b[0maug\u001b[0m\u001b[0;34m)\u001b[0m\u001b[0;34m\u001b[0m\u001b[0m\n\u001b[1;32m     10\u001b[0m     \u001b[0;32mreturn\u001b[0m \u001b[0maug\u001b[0m\u001b[0;34m\u001b[0m\u001b[0m\n\u001b[0;32m---> 11\u001b[0;31m \u001b[0mprint\u001b[0m\u001b[0;34m(\u001b[0m\u001b[0maugment\u001b[0m\u001b[0;34m(\u001b[0m\u001b[0mye\u001b[0m\u001b[0;34m,\u001b[0m\u001b[0mvetA\u001b[0m\u001b[0;34m)\u001b[0m\u001b[0;34m)\u001b[0m\u001b[0;34m\u001b[0m\u001b[0m\n\u001b[0m",
      "\u001b[0;32m<ipython-input-13-52f6d1586d59>\u001b[0m in \u001b[0;36maugment\u001b[0;34m(array, vector)\u001b[0m\n\u001b[1;32m      6\u001b[0m     \u001b[0mmatCols\u001b[0m \u001b[0;34m=\u001b[0m \u001b[0mnp\u001b[0m\u001b[0;34m.\u001b[0m\u001b[0mshape\u001b[0m\u001b[0;34m(\u001b[0m\u001b[0marray\u001b[0m\u001b[0;34m)\u001b[0m\u001b[0;34m[\u001b[0m\u001b[0;36m1\u001b[0m\u001b[0;34m]\u001b[0m\u001b[0;34m\u001b[0m\u001b[0m\n\u001b[1;32m      7\u001b[0m     \u001b[0;32mfor\u001b[0m \u001b[0mi\u001b[0m \u001b[0;32min\u001b[0m \u001b[0mrange\u001b[0m\u001b[0;34m(\u001b[0m\u001b[0mrows\u001b[0m\u001b[0;34m)\u001b[0m\u001b[0;34m:\u001b[0m\u001b[0;34m\u001b[0m\u001b[0m\n\u001b[0;32m----> 8\u001b[0;31m         \u001b[0maug\u001b[0m \u001b[0;34m=\u001b[0m \u001b[0mnp\u001b[0m\u001b[0;34m.\u001b[0m\u001b[0mappend\u001b[0m\u001b[0;34m(\u001b[0m\u001b[0marray\u001b[0m\u001b[0;34m[\u001b[0m\u001b[0mi\u001b[0m\u001b[0;34m]\u001b[0m\u001b[0;34m,\u001b[0m\u001b[0mvector\u001b[0m\u001b[0;34m[\u001b[0m\u001b[0mi\u001b[0m\u001b[0;34m]\u001b[0m\u001b[0;34m)\u001b[0m\u001b[0;34m\u001b[0m\u001b[0m\n\u001b[0m\u001b[1;32m      9\u001b[0m         \u001b[0mprint\u001b[0m\u001b[0;34m(\u001b[0m\u001b[0maug\u001b[0m\u001b[0;34m)\u001b[0m\u001b[0;34m\u001b[0m\u001b[0m\n\u001b[1;32m     10\u001b[0m     \u001b[0;32mreturn\u001b[0m \u001b[0maug\u001b[0m\u001b[0;34m\u001b[0m\u001b[0m\n",
      "\u001b[0;31mIndexError\u001b[0m: index 3 is out of bounds for axis 0 with size 3"
     ]
    }
   ],
   "source": [
    "# Make a function to make augmented matrix. UNFINISHED\n",
    "# Input matrix of shape m*n, vector of size m*1.\n",
    "def augment(array,vector):\n",
    "    #Need to create a new matrix a new matrix.\n",
    "    rows = np.shape(vector)[0]\n",
    "    matCols = np.shape(array)[1]\n",
    "    for i in range(rows):\n",
    "        aug = np.append(array[i],vector[i])\n",
    "        print(aug)\n",
    "    return aug\n",
    "print(augment(ye,vetA))\n"
   ]
  },
  {
   "cell_type": "code",
   "execution_count": 29,
   "metadata": {},
   "outputs": [
    {
     "name": "stdout",
     "output_type": "stream",
     "text": [
      "[-12 -14  -1   6]\n",
      "3\n"
     ]
    }
   ],
   "source": [
    "# Compute the variable from last row upperward.\n",
    "def backsub(array,vector):\n",
    "    #Start to iterate from the bottom row, get the last entry's value.\n",
    "    #Find the last index's value of vector.\n",
    "    #compute the result of x(index).\n",
    "    #Then go up one row. compute the result of x(index) by using what is stored in the result list(?).\n",
    "    #Every time you compute you need to iterate the result list, may not necessary. \n",
    "    #And the result list size is fixed in the beginning. \n",
    "    ls = np.zeros_like(vector)\n",
    "    size = np.shape(vector)[0]\n",
    "    \n",
    "    for i in range(size-1,-1,-1): #index starts from n-1 to 0.\n",
    "        if i == size - 1:\n",
    "            x = (vector[i])/array[-1,-1]\n",
    "        else:\n",
    "            x = (vector[i]-np.sum(array[i,i:] * ls[i+1:]))/array[i,i]\n",
    "        ls[i]=x\n",
    "    print(ls)\n",
    "backsub(ye,vetA)\n",
    "\n",
    "print(np.shape(ye)[0])"
   ]
  },
  {
   "cell_type": "code",
   "execution_count": 23,
   "metadata": {},
   "outputs": [
    {
     "name": "stdout",
     "output_type": "stream",
     "text": [
      "10\n",
      "9\n",
      "8\n",
      "7\n",
      "6\n",
      "5\n",
      "4\n",
      "3\n",
      "2\n",
      "1\n",
      "<class 'tuple'>\n",
      "(3, 3)\n"
     ]
    }
   ],
   "source": [
    "import numpy as np\n",
    "for i in range(10,0,-1):\n",
    "    print(i)\n",
    "tup = (3,)\n",
    "print(type(tup))\n",
    "lss = list()\n",
    "type(lss)\n",
    "vetA =[1,-3,5,6]\n",
    "a =np.zeros_like(vetA)\n",
    "a\n",
    "ye\n",
    "print(np.shape(ye))"
   ]
  },
  {
   "cell_type": "markdown",
   "metadata": {},
   "source": [
    "## Start of Homework Answer\n",
    "### Question A\n",
    "Familiarize yourself with the numpy.linalg package. Define a 10 × 10 matrix A whose entries are\n",
    "the numbers from 1 to 100 ordered consecutively going across rows (so a1,1 = 1, a2,1 = 11, a10,1 = 91,\n",
    "etc). Let v = (1, 2, ...10), and b = (1, 1, ...1). Compute Av and solve Ax = b and Ax = v using\n",
    "linalg.solve. Verify your solution by computing Ax."
   ]
  },
  {
   "cell_type": "code",
   "execution_count": 38,
   "metadata": {},
   "outputs": [
    {
     "name": "stdout",
     "output_type": "stream",
     "text": [
      "matrix A is\n",
      " [[  1   2   3   4   5   6   7   8   9  10]\n",
      " [ 11  12  13  14  15  16  17  18  19  20]\n",
      " [ 21  22  23  24  25  26  27  28  29  30]\n",
      " [ 31  32  33  34  35  36  37  38  39  40]\n",
      " [ 41  42  43  44  45  46  47  48  49  50]\n",
      " [ 51  52  53  54  55  56  57  58  59  60]\n",
      " [ 61  62  63  64  65  66  67  68  69  70]\n",
      " [ 71  72  73  74  75  76  77  78  79  80]\n",
      " [ 81  82  83  84  85  86  87  88  89  90]\n",
      " [ 91  92  93  94  95  96  97  98  99 100]]\n",
      "vector v and b are:\n",
      " [ 1  2  3  4  5  6  7  8  9 10]  ; [1. 1. 1. 1. 1. 1. 1. 1. 1. 1.]\n",
      "The result of Av is:\n",
      " [ 385  935 1485 2035 2585 3135 3685 4235 4785 5335]\n"
     ]
    },
    {
     "ename": "LinAlgError",
     "evalue": "Singular matrix",
     "output_type": "error",
     "traceback": [
      "\u001b[0;31m---------------------------------------------------------------------------\u001b[0m",
      "\u001b[0;31mLinAlgError\u001b[0m                               Traceback (most recent call last)",
      "\u001b[0;32m<ipython-input-38-c6a26717c53d>\u001b[0m in \u001b[0;36m<module>\u001b[0;34m()\u001b[0m\n\u001b[1;32m     20\u001b[0m \u001b[0;34m\u001b[0m\u001b[0m\n\u001b[1;32m     21\u001b[0m \u001b[0;31m#x1 = np.linalg.solve(matrixA,b)\u001b[0m\u001b[0;34m\u001b[0m\u001b[0;34m\u001b[0m\u001b[0m\n\u001b[0;32m---> 22\u001b[0;31m \u001b[0mx2\u001b[0m \u001b[0;34m=\u001b[0m \u001b[0mnp\u001b[0m\u001b[0;34m.\u001b[0m\u001b[0mlinalg\u001b[0m\u001b[0;34m.\u001b[0m\u001b[0msolve\u001b[0m\u001b[0;34m(\u001b[0m\u001b[0mmatrixA\u001b[0m\u001b[0;34m,\u001b[0m\u001b[0mv\u001b[0m\u001b[0;34m)\u001b[0m\u001b[0;34m\u001b[0m\u001b[0m\n\u001b[0m\u001b[1;32m     23\u001b[0m \u001b[0;34m\u001b[0m\u001b[0m\n\u001b[1;32m     24\u001b[0m \u001b[0mprint\u001b[0m\u001b[0;34m(\u001b[0m\u001b[0mnp\u001b[0m\u001b[0;34m.\u001b[0m\u001b[0mdot\u001b[0m\u001b[0;34m(\u001b[0m\u001b[0mmatrixA\u001b[0m\u001b[0;34m,\u001b[0m\u001b[0mx1\u001b[0m\u001b[0;34m)\u001b[0m\u001b[0;34m)\u001b[0m\u001b[0;34m\u001b[0m\u001b[0m\n",
      "\u001b[0;32m/anaconda3/lib/python3.6/site-packages/numpy/linalg/linalg.py\u001b[0m in \u001b[0;36msolve\u001b[0;34m(a, b)\u001b[0m\n\u001b[1;32m    388\u001b[0m     \u001b[0msignature\u001b[0m \u001b[0;34m=\u001b[0m \u001b[0;34m'DD->D'\u001b[0m \u001b[0;32mif\u001b[0m \u001b[0misComplexType\u001b[0m\u001b[0;34m(\u001b[0m\u001b[0mt\u001b[0m\u001b[0;34m)\u001b[0m \u001b[0;32melse\u001b[0m \u001b[0;34m'dd->d'\u001b[0m\u001b[0;34m\u001b[0m\u001b[0m\n\u001b[1;32m    389\u001b[0m     \u001b[0mextobj\u001b[0m \u001b[0;34m=\u001b[0m \u001b[0mget_linalg_error_extobj\u001b[0m\u001b[0;34m(\u001b[0m\u001b[0m_raise_linalgerror_singular\u001b[0m\u001b[0;34m)\u001b[0m\u001b[0;34m\u001b[0m\u001b[0m\n\u001b[0;32m--> 390\u001b[0;31m     \u001b[0mr\u001b[0m \u001b[0;34m=\u001b[0m \u001b[0mgufunc\u001b[0m\u001b[0;34m(\u001b[0m\u001b[0ma\u001b[0m\u001b[0;34m,\u001b[0m \u001b[0mb\u001b[0m\u001b[0;34m,\u001b[0m \u001b[0msignature\u001b[0m\u001b[0;34m=\u001b[0m\u001b[0msignature\u001b[0m\u001b[0;34m,\u001b[0m \u001b[0mextobj\u001b[0m\u001b[0;34m=\u001b[0m\u001b[0mextobj\u001b[0m\u001b[0;34m)\u001b[0m\u001b[0;34m\u001b[0m\u001b[0m\n\u001b[0m\u001b[1;32m    391\u001b[0m \u001b[0;34m\u001b[0m\u001b[0m\n\u001b[1;32m    392\u001b[0m     \u001b[0;32mreturn\u001b[0m \u001b[0mwrap\u001b[0m\u001b[0;34m(\u001b[0m\u001b[0mr\u001b[0m\u001b[0;34m.\u001b[0m\u001b[0mastype\u001b[0m\u001b[0;34m(\u001b[0m\u001b[0mresult_t\u001b[0m\u001b[0;34m,\u001b[0m \u001b[0mcopy\u001b[0m\u001b[0;34m=\u001b[0m\u001b[0;32mFalse\u001b[0m\u001b[0;34m)\u001b[0m\u001b[0;34m)\u001b[0m\u001b[0;34m\u001b[0m\u001b[0m\n",
      "\u001b[0;32m/anaconda3/lib/python3.6/site-packages/numpy/linalg/linalg.py\u001b[0m in \u001b[0;36m_raise_linalgerror_singular\u001b[0;34m(err, flag)\u001b[0m\n\u001b[1;32m     87\u001b[0m \u001b[0;34m\u001b[0m\u001b[0m\n\u001b[1;32m     88\u001b[0m \u001b[0;32mdef\u001b[0m \u001b[0m_raise_linalgerror_singular\u001b[0m\u001b[0;34m(\u001b[0m\u001b[0merr\u001b[0m\u001b[0;34m,\u001b[0m \u001b[0mflag\u001b[0m\u001b[0;34m)\u001b[0m\u001b[0;34m:\u001b[0m\u001b[0;34m\u001b[0m\u001b[0m\n\u001b[0;32m---> 89\u001b[0;31m     \u001b[0;32mraise\u001b[0m \u001b[0mLinAlgError\u001b[0m\u001b[0;34m(\u001b[0m\u001b[0;34m\"Singular matrix\"\u001b[0m\u001b[0;34m)\u001b[0m\u001b[0;34m\u001b[0m\u001b[0m\n\u001b[0m\u001b[1;32m     90\u001b[0m \u001b[0;34m\u001b[0m\u001b[0m\n\u001b[1;32m     91\u001b[0m \u001b[0;32mdef\u001b[0m \u001b[0m_raise_linalgerror_nonposdef\u001b[0m\u001b[0;34m(\u001b[0m\u001b[0merr\u001b[0m\u001b[0;34m,\u001b[0m \u001b[0mflag\u001b[0m\u001b[0;34m)\u001b[0m\u001b[0;34m:\u001b[0m\u001b[0;34m\u001b[0m\u001b[0m\n",
      "\u001b[0;31mLinAlgError\u001b[0m: Singular matrix"
     ]
    }
   ],
   "source": [
    "#CREATE A 10 BY 10 MATRIX CALLED matrixA\n",
    "import numpy as np\n",
    "\n",
    "matrixA=np.arange(1,101,1).reshape(10,10)\n",
    "\n",
    "#DEFINE VECTOR V AND B\n",
    "v = np.arange(1,11)\n",
    "b = np.ones(10)\n",
    "\n",
    "#SHOW THE SHAPE OF A,V,B.\n",
    "print(\"matrix A is\\n\",matrixA)\n",
    "print(\"vector v and b are:\\n\",v,' ;',b)\n",
    "\n",
    "#COMPUTE THE Av\n",
    "Av = np.dot(matrixA,v)\n",
    "print(\"The result of Av is:\\n\",Av)\n",
    "\n",
    "#SOLVE THE AX=B AND AX=V.\n",
    "x1 = np.linalg.solve(matrixA,b)\n",
    "x2 = np.linalg.solve(matrixA,v)\n",
    "\n",
    "print(np.dot(matrixA,x1))\n",
    "print(np.dot(matrixA,x2))"
   ]
  },
  {
   "cell_type": "markdown",
   "metadata": {},
   "source": [
    "### Question B\n",
    "You may get some error in doing above. You decide to “shake” your matrix by some noise, after all data usual comes in noisy. Use the numpy.random package to build a 10×10 matrix R(ε) whose entries are i.i.d. Gaussian random variables that follow N(0,ε2). Verify now that you “can” compute the questions above for various values of ε > 0 for the new matrix A + R(ε)."
   ]
  },
  {
   "cell_type": "code",
   "execution_count": 55,
   "metadata": {},
   "outputs": [
    {
     "name": "stdout",
     "output_type": "stream",
     "text": [
      "The noise matrix is constructed by standard deviation of 0.2:\n",
      " [[ 2.71764793e-02 -2.08336508e-02  2.78202933e-02 -5.46889033e-02\n",
      "  -3.71350703e-02  1.50234775e-03 -1.97215769e-02 -4.07138834e-02\n",
      "   8.69306044e-02 -6.82837636e-02]\n",
      " [-3.96691495e-02  2.78860873e-02 -2.60674607e-02  1.78651358e-02\n",
      "  -8.23215472e-02  3.31391412e-02  1.43674672e-02 -5.43387868e-02\n",
      "  -5.43244001e-02  1.76813709e-02]\n",
      " [-6.25942492e-02 -6.18241290e-02 -1.47378651e-02 -4.81583737e-02\n",
      "   5.37074563e-02  2.53549850e-02  8.42243603e-03 -4.60951955e-04\n",
      "   2.84062548e-03 -4.49499548e-02]\n",
      " [ 1.11928426e-01 -2.30674376e-02  6.43515000e-03 -1.91448556e-02\n",
      "  -8.15028579e-03  7.84613997e-02  4.57281328e-03  1.96265416e-02\n",
      "   1.15964734e-03  6.80167442e-03]\n",
      " [ 6.60948695e-02  5.14630371e-02 -1.57815899e-02 -3.67997574e-02\n",
      "   7.23687802e-03 -4.01968969e-02 -2.53598085e-02 -5.43334091e-02\n",
      "  -1.26400654e-03  1.37078058e-02]\n",
      " [-3.34455458e-02  3.06927316e-02  9.57351260e-03  1.56404960e-02\n",
      "  -5.55000919e-05 -3.60826632e-02 -1.23655846e-02 -5.32082597e-02\n",
      "  -4.06581190e-02 -8.21751733e-02]\n",
      " [-7.75766934e-03  1.10356169e-03  2.17533732e-02  2.30747565e-02\n",
      "  -4.50014964e-02 -5.70438833e-02  1.18310004e-02 -4.75866804e-02\n",
      "  -4.08919130e-02  6.85580575e-03]\n",
      " [ 1.10053288e-02 -2.71026839e-02  3.26813835e-02  6.89398338e-02\n",
      "   3.50624983e-02  2.19319994e-02  8.71780566e-02  2.12536750e-02\n",
      "   1.73756798e-02 -5.58762010e-02]\n",
      " [-1.72065007e-02  3.44753997e-02  2.13837729e-02  7.36828840e-02\n",
      "  -5.62424705e-02  5.25749186e-02  4.16114525e-02  9.38484542e-02\n",
      "   4.45770082e-02 -2.68888284e-02]\n",
      " [-3.47570985e-02 -2.69930008e-02 -3.92042915e-03  3.04076135e-02\n",
      "  -1.80763803e-02  1.84523677e-02 -4.61047241e-02  2.09185166e-02\n",
      "   2.72134562e-02  3.54478391e-02]]\n",
      "The solution of matrix (A+R(eplison))x=b is:\n",
      " [1. 1. 1. 1. 1. 1. 1. 1. 1. 1.]\n",
      "The solution of matrix (A+R(eplison))x=v is:\n",
      " [ 1.  2.  3.  4.  5.  6.  7.  8.  9. 10.]\n"
     ]
    }
   ],
   "source": [
    "#CONSTRUCT THE NOISE MATRIX\n",
    "def R(echelon):\n",
    "    mean = 0\n",
    "    var = echelon**2\n",
    "    matrixNoise = np.random.normal(mean,var,(10,10))\n",
    "    return matrixNoise\n",
    "matrixNoise = R(0.2)\n",
    "print(\"The noise matrix is constructed by standard deviation of 0.2:\\n\",matrixNoise)\n",
    "\n",
    "#COMBINE THE TWO MATRICES.\n",
    "matrixNew = matrixNoise + matrixA\n",
    "\n",
    "#SOLVE THE NEW MATRIX Ax=b and Ax=v.\n",
    "x3 = np.linalg.solve(matrixNew,b)\n",
    "x4 = np.linalg.solve(matrixNew,v)\n",
    "\n",
    "#CHECK ANSWER.\n",
    "print(\"The solution of matrix (A+R(eplison))x=b is:\\n\",np.dot(matrixNew,x3))\n",
    "print(\"The solution of matrix (A+R(eplison))x=v is:\\n\",np.dot(matrixNew,x4))\n",
    "print(\"The result shows that we could compute correctly now.\")"
   ]
  },
  {
   "cell_type": "markdown",
   "metadata": {},
   "source": [
    "### Question C\n",
    "Write a python function BackSub(A, b) that does the backward substitution from scratch. The input A must be an upper triangular square matrix whose diagonals are all nonzero, and b must be a vector of appropriate dimension. Raise an error if inputs do not satisfy the requirements. Only 1 for loop is needed. It should return the unique solution of solving Ax = b. Test your function on\n",
    "(a) Problem 3 (b) a 3 × 3 matrix that is not upper triangular (c) a 3 × 2 matrix (d) Problem 5"
   ]
  },
  {
   "cell_type": "code",
   "execution_count": 49,
   "metadata": {},
   "outputs": [
    {
     "name": "stdout",
     "output_type": "stream",
     "text": [
      "[-37  -8   5]\n",
      "error message: Matrix shape is not uppertriangle.\n",
      " Please reenter your matrix\n",
      "Error message: Matrix\n",
      " [[1 2]\n",
      " [3 5]\n",
      " [5 6]]  \n",
      "is rectangle. \n",
      "error message: the diagonal entries has zero in it.\n"
     ]
    }
   ],
   "source": [
    "#PREPARE THE INPUT MATRIX\n",
    "#(a)matrix and vector from Problem 3\n",
    "matA = np.array([[1,-3,4],[0,1,2],[0,0,1]])\n",
    "vetA = np.transpose(np.array([7,2,5]))\n",
    "\n",
    "#(b)one lower triangle matrix\n",
    "matB = np.array([[1,2,0],[0,2,4],[3,0,0]])\n",
    "\n",
    "#(c)a 3*2 matrix\n",
    "matC = np.array([[1,2],[3,5],[5,6]])\n",
    "\n",
    "#(d)matrix and vector from Problem 5.\n",
    "matD = np.array([[1,-3,7],[0,1,4],[0,0,0]])\n",
    "vetD = np.array([1,0,5])\n",
    "\n",
    "def chkshape(array):\n",
    "    #write a new function: chkshape(array), output -1 means error, 1 it is square, 0 it is rectangle.\n",
    "    if np.ndim(array) != 2:\n",
    "        print(\"Error, the matrix is not 2-Dimension.\")\n",
    "        return -1\n",
    "    else:\n",
    "        shape = np.shape(array)\n",
    "        if (shape[0]-shape[1]) == 0:\n",
    "            return 1\n",
    "        else: \n",
    "            return 0\n",
    "\n",
    "        \n",
    "def checkUpper(array):\n",
    "    #write a function to check the upper triangle property of any given matrix.\n",
    "    #Output: True as upper tirangle shape, False as not upper triangle shape.\n",
    "    #Learned from [https://www.geeksforgeeks.org/program-check-matrix-upper-triangular/]\n",
    "    #after confirmation of being square matrix.\n",
    "    dim = np.shape(ye)[0]\n",
    "    for i in range(1,dim):\n",
    "        for j in range(0,i):\n",
    "            if array[i][j]!=0:\n",
    "                return False\n",
    "    return True\n",
    "        \n",
    "# Compute the variable from last row upperward.\n",
    "def backsub(array,vector):\n",
    "    if chkshape(array) !=1:\n",
    "        if chkshape(array) == 0:\n",
    "            print(\"Error message: Matrix\\n\",array,\" \\nis rectangle. \")\n",
    "            return\n",
    "    else:\n",
    "        if checkUpper(array) == False:\n",
    "            print(\"error message: Matrix shape is not uppertriangle.\\n\",\"Please reenter your matrix\")\n",
    "            return\n",
    "    #Start to iterate from the bottom row, get the last entry's value.\n",
    "    #Find the last index's value of vector.\n",
    "    #compute the result of x(index).\n",
    "    #Then go up one row. compute the result of x(index) by using what is stored in the result list(ls).\n",
    "    #Learned from [https://codereview.stackexchange.com/questions/110039/back-substitution-method-for-solving-linear-system]\n",
    "    ls = np.zeros_like(vector)\n",
    "    size = np.shape(vector)[0]\n",
    "    \n",
    "    for i in range(size-1,-1,-1): #index starts from n-1 to 0.\n",
    "        if array[i,i] == 0:\n",
    "            print(\"error message: the diagonal entries has zero in it.\")\n",
    "            return\n",
    "        if i == size - 1:\n",
    "            x = (vector[i])/array[-1,-1]\n",
    "        else:\n",
    "            x = (vector[i]-np.sum(array[i,i+1:] * ls[i+1:]))/array[i,i]\n",
    "        ls[i]=x\n",
    "    print(ls)\n",
    "#The linear system in (a) works fine.\n",
    "backsub(matA,vetA)\n",
    "#The linear system in (b) is not a square matrix.\n",
    "backsub(matB,vetA)\n",
    "#The shape of linear system in (C) is not right.\n",
    "backsub(matC,vetA)\n",
    "#The zero diagonal entry in matrix (D) prevent the calculation success.\n",
    "backsub(matD,vetD)"
   ]
  }
 ],
 "metadata": {
  "kernelspec": {
   "display_name": "Python 3",
   "language": "python",
   "name": "python3"
  },
  "language_info": {
   "codemirror_mode": {
    "name": "ipython",
    "version": 3
   },
   "file_extension": ".py",
   "mimetype": "text/x-python",
   "name": "python",
   "nbconvert_exporter": "python",
   "pygments_lexer": "ipython3",
   "version": "3.6.5"
  }
 },
 "nbformat": 4,
 "nbformat_minor": 2
}
