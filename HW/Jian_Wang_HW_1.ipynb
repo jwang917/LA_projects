{
 "cells": [
  {
   "cell_type": "markdown",
   "metadata": {},
   "source": [
    "## Start of Homework Answer\n",
    "### Question A\n",
    "Familiarize yourself with the numpy.linalg package. Define a 10 × 10 matrix A whose entries are\n",
    "the numbers from 1 to 100 ordered consecutively going across rows (so a1,1 = 1, a2,1 = 11, a10,1 = 91,\n",
    "etc). Let v = (1, 2, ...10), and b = (1, 1, ...1). Compute Av and solve Ax = b and Ax = v using\n",
    "linalg.solve. Verify your solution by computing Ax."
   ]
  },
  {
   "cell_type": "code",
   "execution_count": 2,
   "metadata": {},
   "outputs": [
    {
     "name": "stdout",
     "output_type": "stream",
     "text": [
      "matrix A is\n",
      " [[  1   2   3   4   5   6   7   8   9  10]\n",
      " [ 11  12  13  14  15  16  17  18  19  20]\n",
      " [ 21  22  23  24  25  26  27  28  29  30]\n",
      " [ 31  32  33  34  35  36  37  38  39  40]\n",
      " [ 41  42  43  44  45  46  47  48  49  50]\n",
      " [ 51  52  53  54  55  56  57  58  59  60]\n",
      " [ 61  62  63  64  65  66  67  68  69  70]\n",
      " [ 71  72  73  74  75  76  77  78  79  80]\n",
      " [ 81  82  83  84  85  86  87  88  89  90]\n",
      " [ 91  92  93  94  95  96  97  98  99 100]]\n",
      "vector v and b are:\n",
      " [ 1  2  3  4  5  6  7  8  9 10]  ; [1. 1. 1. 1. 1. 1. 1. 1. 1. 1.]\n",
      "The result of Av is:\n",
      " [ 385  935 1485 2035 2585 3135 3685 4235 4785 5335]\n"
     ]
    },
    {
     "ename": "LinAlgError",
     "evalue": "Singular matrix",
     "output_type": "error",
     "traceback": [
      "\u001b[0;31m---------------------------------------------------------------------------\u001b[0m",
      "\u001b[0;31mLinAlgError\u001b[0m                               Traceback (most recent call last)",
      "\u001b[0;32m<ipython-input-2-e1715ed5c4d2>\u001b[0m in \u001b[0;36m<module>\u001b[0;34m()\u001b[0m\n\u001b[1;32m     17\u001b[0m \u001b[0;34m\u001b[0m\u001b[0m\n\u001b[1;32m     18\u001b[0m \u001b[0;31m#SOLVE THE AX=B AND AX=V.\u001b[0m\u001b[0;34m\u001b[0m\u001b[0;34m\u001b[0m\u001b[0m\n\u001b[0;32m---> 19\u001b[0;31m \u001b[0mx1\u001b[0m \u001b[0;34m=\u001b[0m \u001b[0mnp\u001b[0m\u001b[0;34m.\u001b[0m\u001b[0mlinalg\u001b[0m\u001b[0;34m.\u001b[0m\u001b[0msolve\u001b[0m\u001b[0;34m(\u001b[0m\u001b[0mmatrixA\u001b[0m\u001b[0;34m,\u001b[0m\u001b[0mb\u001b[0m\u001b[0;34m)\u001b[0m\u001b[0;34m\u001b[0m\u001b[0m\n\u001b[0m\u001b[1;32m     20\u001b[0m \u001b[0mx2\u001b[0m \u001b[0;34m=\u001b[0m \u001b[0mnp\u001b[0m\u001b[0;34m.\u001b[0m\u001b[0mlinalg\u001b[0m\u001b[0;34m.\u001b[0m\u001b[0msolve\u001b[0m\u001b[0;34m(\u001b[0m\u001b[0mmatrixA\u001b[0m\u001b[0;34m,\u001b[0m\u001b[0mv\u001b[0m\u001b[0;34m)\u001b[0m\u001b[0;34m\u001b[0m\u001b[0m\n\u001b[1;32m     21\u001b[0m \u001b[0;34m\u001b[0m\u001b[0m\n",
      "\u001b[0;32m/anaconda3/lib/python3.6/site-packages/numpy/linalg/linalg.py\u001b[0m in \u001b[0;36msolve\u001b[0;34m(a, b)\u001b[0m\n\u001b[1;32m    388\u001b[0m     \u001b[0msignature\u001b[0m \u001b[0;34m=\u001b[0m \u001b[0;34m'DD->D'\u001b[0m \u001b[0;32mif\u001b[0m \u001b[0misComplexType\u001b[0m\u001b[0;34m(\u001b[0m\u001b[0mt\u001b[0m\u001b[0;34m)\u001b[0m \u001b[0;32melse\u001b[0m \u001b[0;34m'dd->d'\u001b[0m\u001b[0;34m\u001b[0m\u001b[0m\n\u001b[1;32m    389\u001b[0m     \u001b[0mextobj\u001b[0m \u001b[0;34m=\u001b[0m \u001b[0mget_linalg_error_extobj\u001b[0m\u001b[0;34m(\u001b[0m\u001b[0m_raise_linalgerror_singular\u001b[0m\u001b[0;34m)\u001b[0m\u001b[0;34m\u001b[0m\u001b[0m\n\u001b[0;32m--> 390\u001b[0;31m     \u001b[0mr\u001b[0m \u001b[0;34m=\u001b[0m \u001b[0mgufunc\u001b[0m\u001b[0;34m(\u001b[0m\u001b[0ma\u001b[0m\u001b[0;34m,\u001b[0m \u001b[0mb\u001b[0m\u001b[0;34m,\u001b[0m \u001b[0msignature\u001b[0m\u001b[0;34m=\u001b[0m\u001b[0msignature\u001b[0m\u001b[0;34m,\u001b[0m \u001b[0mextobj\u001b[0m\u001b[0;34m=\u001b[0m\u001b[0mextobj\u001b[0m\u001b[0;34m)\u001b[0m\u001b[0;34m\u001b[0m\u001b[0m\n\u001b[0m\u001b[1;32m    391\u001b[0m \u001b[0;34m\u001b[0m\u001b[0m\n\u001b[1;32m    392\u001b[0m     \u001b[0;32mreturn\u001b[0m \u001b[0mwrap\u001b[0m\u001b[0;34m(\u001b[0m\u001b[0mr\u001b[0m\u001b[0;34m.\u001b[0m\u001b[0mastype\u001b[0m\u001b[0;34m(\u001b[0m\u001b[0mresult_t\u001b[0m\u001b[0;34m,\u001b[0m \u001b[0mcopy\u001b[0m\u001b[0;34m=\u001b[0m\u001b[0;32mFalse\u001b[0m\u001b[0;34m)\u001b[0m\u001b[0;34m)\u001b[0m\u001b[0;34m\u001b[0m\u001b[0m\n",
      "\u001b[0;32m/anaconda3/lib/python3.6/site-packages/numpy/linalg/linalg.py\u001b[0m in \u001b[0;36m_raise_linalgerror_singular\u001b[0;34m(err, flag)\u001b[0m\n\u001b[1;32m     87\u001b[0m \u001b[0;34m\u001b[0m\u001b[0m\n\u001b[1;32m     88\u001b[0m \u001b[0;32mdef\u001b[0m \u001b[0m_raise_linalgerror_singular\u001b[0m\u001b[0;34m(\u001b[0m\u001b[0merr\u001b[0m\u001b[0;34m,\u001b[0m \u001b[0mflag\u001b[0m\u001b[0;34m)\u001b[0m\u001b[0;34m:\u001b[0m\u001b[0;34m\u001b[0m\u001b[0m\n\u001b[0;32m---> 89\u001b[0;31m     \u001b[0;32mraise\u001b[0m \u001b[0mLinAlgError\u001b[0m\u001b[0;34m(\u001b[0m\u001b[0;34m\"Singular matrix\"\u001b[0m\u001b[0;34m)\u001b[0m\u001b[0;34m\u001b[0m\u001b[0m\n\u001b[0m\u001b[1;32m     90\u001b[0m \u001b[0;34m\u001b[0m\u001b[0m\n\u001b[1;32m     91\u001b[0m \u001b[0;32mdef\u001b[0m \u001b[0m_raise_linalgerror_nonposdef\u001b[0m\u001b[0;34m(\u001b[0m\u001b[0merr\u001b[0m\u001b[0;34m,\u001b[0m \u001b[0mflag\u001b[0m\u001b[0;34m)\u001b[0m\u001b[0;34m:\u001b[0m\u001b[0;34m\u001b[0m\u001b[0m\n",
      "\u001b[0;31mLinAlgError\u001b[0m: Singular matrix"
     ]
    }
   ],
   "source": [
    "#CREATE A 10 BY 10 MATRIX CALLED matrixA.\n",
    "import numpy as np\n",
    "\n",
    "matrixA=np.arange(1,101,1).reshape(10,10)\n",
    "\n",
    "#DEFINE VECTOR V AND B.\n",
    "v = np.arange(1,11)\n",
    "b = np.ones(10)\n",
    "\n",
    "#SHOW THE SHAPE OF A,V,B.\n",
    "print(\"matrix A is\\n\",matrixA)\n",
    "print(\"vector v and b are:\\n\",v,' ;',b)\n",
    "\n",
    "#COMPUTE THE Av.\n",
    "Av = np.dot(matrixA,v)\n",
    "print(\"The result of Av is:\\n\",Av)\n",
    "\n",
    "#SOLVE THE AX=B AND AX=V.\n",
    "x1 = np.linalg.solve(matrixA,b)\n",
    "x2 = np.linalg.solve(matrixA,v)\n",
    "\n",
    "print(np.dot(matrixA,x1))\n",
    "print(np.dot(matrixA,x2))"
   ]
  },
  {
   "cell_type": "markdown",
   "metadata": {},
   "source": [
    "### Question B\n",
    "You may get some error in doing above. You decide to “shake” your matrix by some noise, after all data usual comes in noisy. Use the numpy.random package to build a 10×10 matrix R(ε) whose entries are i.i.d. Gaussian random variables that follow N(0,ε2). Verify now that you “can” compute the questions above for various values of ε > 0 for the new matrix A + R(ε)."
   ]
  },
  {
   "cell_type": "code",
   "execution_count": 3,
   "metadata": {},
   "outputs": [
    {
     "name": "stdout",
     "output_type": "stream",
     "text": [
      "The noise matrix is constructed by standard deviation of 0.2:\n",
      " [[-6.32260620e-02  1.69342866e-03  1.52064936e-02  5.54929973e-02\n",
      "  -2.79170728e-03  7.80482290e-02  3.91252279e-02  1.08520412e-01\n",
      "  -8.14291866e-04 -1.94081981e-02]\n",
      " [-1.83586046e-02 -4.97101437e-02  5.81691906e-02 -3.81874628e-02\n",
      "   2.58370248e-02  3.82352691e-02 -5.63126121e-02 -3.77832467e-02\n",
      "  -3.65874668e-02  1.81629416e-03]\n",
      " [ 2.79056920e-02 -3.56224073e-02 -4.77234759e-02 -4.10202849e-02\n",
      "   3.83632266e-02  3.29724097e-02  2.61723690e-02 -3.57968697e-02\n",
      "  -4.79560368e-03 -1.95494177e-02]\n",
      " [ 3.38079955e-02  4.93173637e-02  3.75959863e-02  5.39106475e-02\n",
      "   1.91784791e-02  5.33805453e-02  1.67328423e-02  2.47734423e-02\n",
      "  -3.49230395e-02  2.82452388e-02]\n",
      " [-2.67036681e-02  3.61785976e-02 -4.34331705e-03  4.11178106e-02\n",
      "   4.46292759e-03  5.40697303e-02 -1.22911553e-02  2.91808585e-02\n",
      "   4.15250143e-02  4.76389052e-03]\n",
      " [-4.77844680e-02  1.34546984e-02  7.97198862e-02 -2.64126591e-02\n",
      "  -2.24809152e-02 -2.11989373e-02  1.64504541e-02  3.58847656e-02\n",
      "  -1.45187625e-02 -3.53351804e-05]\n",
      " [-2.83539044e-02  3.71510061e-02  9.64554723e-03 -8.51754168e-03\n",
      "  -5.29234141e-02 -7.83364015e-04 -2.61318690e-02 -1.01328145e-02\n",
      "   1.74352158e-02 -2.60644477e-02]\n",
      " [ 5.37192029e-02  6.23286007e-02  2.19852500e-02  7.51167995e-03\n",
      "   3.12645224e-02  2.24509814e-02  1.77462207e-03  6.60966607e-02\n",
      "  -5.08962217e-02  2.02389203e-02]\n",
      " [-1.72608427e-02  1.19022850e-02  1.22734087e-04  3.81441015e-02\n",
      "   1.03303798e-02 -6.43219771e-02  6.56453662e-02  3.04084355e-02\n",
      "   6.86905195e-02  3.72883316e-02]\n",
      " [ 2.70729182e-02  4.21267942e-02 -2.79446211e-02 -2.80553785e-02\n",
      "   4.78757529e-02  2.44175099e-02  2.71276102e-02  4.72413320e-02\n",
      "   3.58369052e-02 -1.60167358e-02]]\n",
      "The solution of matrix (A+R(eplison))x=b is:\n",
      " [1. 1. 1. 1. 1. 1. 1. 1. 1. 1.]\n",
      "The solution of matrix (A+R(eplison))x=v is:\n",
      " [ 1.  2.  3.  4.  5.  6.  7.  8.  9. 10.]\n",
      "The result shows that we could compute correctly now.\n"
     ]
    }
   ],
   "source": [
    "#CONSTRUCT THE NOISE MATRIX.\n",
    "def R(echelon):\n",
    "    mean = 0\n",
    "    var = echelon**2\n",
    "    matrixNoise = np.random.normal(mean,var,(10,10))\n",
    "    return matrixNoise\n",
    "matrixNoise = R(0.2)\n",
    "print(\"The noise matrix is constructed by standard deviation of 0.2:\\n\",matrixNoise)\n",
    "\n",
    "#COMBINE THE TWO MATRICES.\n",
    "matrixNew = matrixNoise + matrixA\n",
    "\n",
    "#SOLVE THE NEW MATRIX Ax=b and Ax=v.\n",
    "x3 = np.linalg.solve(matrixNew,b)\n",
    "x4 = np.linalg.solve(matrixNew,v)\n",
    "\n",
    "#CHECK ANSWER.\n",
    "print(\"The solution of matrix (A+R(eplison))x=b is:\\n\",np.dot(matrixNew,x3))\n",
    "print(\"The solution of matrix (A+R(eplison))x=v is:\\n\",np.dot(matrixNew,x4))\n",
    "print(\"The result shows that we could compute correctly now.\")"
   ]
  },
  {
   "cell_type": "markdown",
   "metadata": {},
   "source": [
    "### Question C\n",
    "Write a python function BackSub(A, b) that does the backward substitution from scratch. The input A must be an upper triangular square matrix whose diagonals are all nonzero, and b must be a vector of appropriate dimension. Raise an error if inputs do not satisfy the requirements. Only 1 for loop is needed. It should return the unique solution of solving Ax = b. Test your function on\n",
    "(a) Problem 3 (b) a 3 × 3 matrix that is not upper triangular (c) a 3 × 2 matrix (d) Problem 5"
   ]
  },
  {
   "cell_type": "code",
   "execution_count": 4,
   "metadata": {},
   "outputs": [
    {
     "name": "stdout",
     "output_type": "stream",
     "text": [
      "[-37  -8   5]\n",
      "Error message: Matrix's shape is not upper-triangle.\n",
      " Please re-enter your matrix\n",
      "Error message: Matrix\n",
      " [[1 2]\n",
      " [3 5]\n",
      " [5 6]]  \n",
      "is rectangle. \n",
      "Error message: the diagonal entries have number 0.\n"
     ]
    }
   ],
   "source": [
    "#PREPARE THE INPUT MATRIX AS REQUIRED.\n",
    "#(a)matrix and vector from Problem 3.\n",
    "matA = np.array([[1,-3,4],[0,1,2],[0,0,1]])\n",
    "vetA = np.transpose(np.array([7,2,5]))\n",
    "\n",
    "#(b)one lower triangle matrix.\n",
    "matB = np.array([[1,2,0],[0,2,4],[3,0,0]])\n",
    "\n",
    "#(c)a 3*2 matrix.\n",
    "matC = np.array([[1,2],[3,5],[5,6]])\n",
    "\n",
    "#(d)matrix and vector from Problem 5.\n",
    "matD = np.array([[1,-3,7],[0,1,4],[0,0,0]])\n",
    "vetD = np.array([1,0,5])\n",
    "\n",
    "def chkshape(array):\n",
    "    #write a new function: chkshape(array). Output -1 means error; 1 it is square; 0 it is rectangle.\n",
    "    if np.ndim(array) != 2:\n",
    "        print(\"Error, the matrix is not 2-Dimension.\")\n",
    "        return -1\n",
    "    else:\n",
    "        shape = np.shape(array)\n",
    "        if (shape[0]-shape[1]) == 0:\n",
    "            return 1\n",
    "        else: \n",
    "            return 0\n",
    "\n",
    "        \n",
    "def checkUpper(array):\n",
    "    #write a function to check the upper triangle property of any given matrix.\n",
    "    #Output: True as upper tirangle shape, False as not upper triangle shape.\n",
    "    #Learned from [https://www.geeksforgeeks.org/program-check-matrix-upper-triangular/]\n",
    "    #This should be done after confirmation of being square matrix.\n",
    "    dim = np.shape(array)[0]\n",
    "    for i in range(1,dim):\n",
    "        for j in range(0,i):\n",
    "            if array[i][j]!=0:\n",
    "                return False\n",
    "    return True\n",
    "        \n",
    "#Compute the unknowns by backward substitution.\n",
    "#Learned from [https://codereview.stackexchange.com/questions/110039/back-substitution-method-for-solving-linear-system]\n",
    "def backsub(array,vector):\n",
    "    if chkshape(array) !=1:\n",
    "        if chkshape(array) == 0:\n",
    "            print(\"Error message: Matrix\\n\",array,\" \\nis rectangle. \")\n",
    "            return\n",
    "    else:\n",
    "        if checkUpper(array) == False:\n",
    "            print(\"Error message: Matrix's shape is not upper-triangle.\\n\",\"Please re-enter your matrix\")\n",
    "            return\n",
    "    ls = np.zeros_like(vector)\n",
    "    size = np.shape(vector)[0]\n",
    "    \n",
    "    #Find the last index's value of vector.\n",
    "    for i in range(size-1,-1,-1): #index starts from n-1 to 0.\n",
    "        #Check if all diagonal entries is nonzero. If it is not, then print error and return.\n",
    "        if array[i,i] == 0:\n",
    "            print(\"Error message: the diagonal entries have number 0.\")\n",
    "            return\n",
    "        if i == size - 1:\n",
    "            #Start to iterate from the bottom row, get the last entry's value.\n",
    "            x = (vector[i])/array[-1,-1]\n",
    "            #Then go up one row. compute the result of x(index) by using what is stored in the result list(ls).\n",
    "        else:\n",
    "            #compute the result of x(index).\n",
    "            x = (vector[i]-np.sum(array[i,i+1:] * ls[i+1:]))/array[i,i]\n",
    "        #store the value of unknown into ls, with index starting backward. ie: xn,xn-1,...,x2,x1\n",
    "        ls[i]=x\n",
    "    print(ls)\n",
    " \n",
    "#The linear system in (a) has unique solution.\n",
    "backsub(matA,vetA)\n",
    "#The linear system in (b) is not in the shape of a square matrix.\n",
    "backsub(matB,vetA)\n",
    "#The shape of linear system in (C) is not right.\n",
    "backsub(matC,vetA)\n",
    "#The zero diagonal entry in matrix (D) prevent the calculation's success.\n",
    "backsub(matD,vetD)"
   ]
  },
  {
   "cell_type": "code",
   "execution_count": null,
   "metadata": {},
   "outputs": [],
   "source": []
  }
 ],
 "metadata": {
  "kernelspec": {
   "display_name": "Python 3",
   "language": "python",
   "name": "python3"
  },
  "language_info": {
   "codemirror_mode": {
    "name": "ipython",
    "version": 3
   },
   "file_extension": ".py",
   "mimetype": "text/x-python",
   "name": "python",
   "nbconvert_exporter": "python",
   "pygments_lexer": "ipython3",
   "version": "3.6.5"
  }
 },
 "nbformat": 4,
 "nbformat_minor": 2
}
