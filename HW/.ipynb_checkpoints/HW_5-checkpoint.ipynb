{
 "cells": [
  {
   "cell_type": "markdown",
   "metadata": {},
   "source": [
    "# Python problems"
   ]
  },
  {
   "cell_type": "markdown",
   "metadata": {},
   "source": [
    "## Question 1: function SVDLF()\n",
    "Write a python function SVDLF(filename) to find the best fit line in the sense of SVD to a set of data consisting of paired observations in the form (x; y).\n",
    "<br>\n",
    "Apply SVDLF and LSLF (from hw4) on nba.txt, and plot both lines, as well as the points in the same figure. Make sure you have appropriate legend to mark which line is which."
   ]
  },
  {
   "cell_type": "markdown",
   "metadata": {},
   "source": [
    "Solve this problem need proper input, which will be the filename. I will use pandas.read_csv to get the content from it;I need to get the data in matrix form, I will need to mannually add a constant column with 1 in the A matrix, and make both matrix in the long slim shape; I need to be able compute Z,E,U w.r.t the input matrix, which need to compute At\\*A's singular values to get E, need to compute the orthogonal diagonalization vector v1,v2 to construct V and need to compute Avi to get the corresponding ui. "
   ]
  },
  {
   "cell_type": "markdown",
   "metadata": {},
   "source": [
    "### There is something should be cautious:\n",
    "The order of singular values in diagonal entries of E should be decreasing.\n",
    "And the value of singular entries should be nonzero.\n",
    "<br>\n",
    "The V matrix is in a transposed form."
   ]
  },
  {
   "cell_type": "code",
   "execution_count": 252,
   "metadata": {},
   "outputs": [],
   "source": [
    "import pandas as pd\n",
    "import numpy as np\n",
    "import math as Math\n",
    "# To set the skeleton of function SVDLF()\n",
    "def SVDLF(filename):\n",
    "    #read file \n",
    "    with open(filename) as f:\n",
    "        contents = pd.read_csv(filename)\n",
    "    #get yVec and A\n",
    "    yVec = contents.y\n",
    "    xVec = contents.x\n",
    "    ones = [1 for i in range(len(xVec))]\n",
    "    ones = pd.Series(ones)\n",
    "    #join xVec with ones\n",
    "    A = pd.concat([xVec,ones],axis=1)\n",
    "    #get At, AtA; \n",
    "    At = A.T\n",
    "    AtA = At@A\n",
    "    #compute eigenvalue, eigenvectors\n",
    "    #return a tuple,(a list of eigenvalues,a list of eigenvectors)\n",
    "    eigRes = np.linalg.eig(AtA)\n",
    "    eigVal = eigRes[0] #in descending order\n",
    "    #get the singular values\n",
    "    singVal = [Math.sqrt(e) for e in eigVal]\n",
    "    #use nump.diag to construct the diagonal matrix of lambda\n",
    "    E = np.diag(singVal)\n",
    "    eigVec = np.array(eigRes[1])\n",
    "    #check eigenvectors orthogonality.\n",
    "    if(np.dot(eigVec[0],eigVec[1])!=0):\n",
    "        #we need to find the orthogonal matrix of V, by doing orthogonal\n",
    "        #diagonalization of eigVec.\n",
    "        # since our test case only have two eigenvectors, it saves a lot of work.\n",
    "        v = eigVec[0]\n",
    "        projUv = (np.dot(eigVec[0],eigVec[1])/np.linalg.norm(eigVec[0]))*v\n",
    "        u = eigVec[1]\n",
    "        oth = u - projUv\n",
    "        V = np.array([v,oth])\n",
    "#print(\"V shape is\",V.shape)\n",
    "    else:\n",
    "        print(\"your v is already orthongal matrix\")\n",
    "    #compute the Ut matrix\n",
    "    Ut = []\n",
    "    for i in range(len(V)):\n",
    "        #use ui=Avi/ei\n",
    "        u_i = np.dot(A,V[i])/singVal[i]\n",
    "        Ut.append(u_i)\n",
    "    Ut = np.array(Ut)\n",
    "#print(Ut.shape)\n",
    "    #compute the fitted line\n",
    "    # first find transpose of Vt, U\n",
    "    U = Ut.T\n",
    "#print(U.shape)\n",
    "    E_inv = np.linalg.inv(E)\n",
    "    X = np.linalg.multi_dot([V,E_inv,Ut,yVec])\n",
    "    return X"
   ]
  },
  {
   "cell_type": "code",
   "execution_count": 256,
   "metadata": {},
   "outputs": [],
   "source": [
    "#use nba.txt as test file.\n",
    "nbaFile = \"/Users/jw/classes/msan502/data/nba.txt\"\n",
    "nbaSvdFitted = SVDLF(nbaFile)\n",
    "nbaData = pd.read_csv(nbaFile)"
   ]
  },
  {
   "cell_type": "markdown",
   "metadata": {},
   "source": [
    "## The plot of SVDLF and LSLF\n",
    "Use plot function \"drawReg\" in HW4."
   ]
  },
  {
   "cell_type": "code",
   "execution_count": 271,
   "metadata": {},
   "outputs": [],
   "source": [
    "import matplotlib.pyplot as plt \n",
    "def drawTwoFitLine(data,fit1,fit2,fitName1,fitName2):\n",
    "    #draw the scatter plot of all points\n",
    "    colx = np.array(data['x'])\n",
    "    coly = np.array(data['y'])\n",
    "    #first element is the slope, second element is the y-intercept.\n",
    "    slope_1 = fit1[0]\n",
    "    intercept_1 = fit1[1]\n",
    "    slope_2 = fit2[0]\n",
    "    intercept_2 = fit2[1]\n",
    "    #set up \n",
    "    fig, ax = plt.subplots(figsize=(8,8))\n",
    "    \n",
    "    plt.scatter(colx,coly,alpha=0.4)\n",
    "    #draw first fitted line using two points.\n",
    "    xmin = np.amin(colx)\n",
    "    xmax = np.amax(colx)\n",
    "    ymin = np.amin(coly)\n",
    "    ymax = np.amax(coly)\n",
    "    ax.plot([xmin,xmax],[intercept_1+slope_1*xmin,intercept_1+slope_1*xmax],linestyle=\"-\",color=\"C3\",label=fitName1)\n",
    "    ax.plot([xmin,xmax],[intercept_2+slope_2*xmin,intercept_2+slope_2*xmax],linestyle=\"-.\",color=\"C2\",label=fitName2)\n",
    "    \n",
    "    #add labels\n",
    "    ax.set_xlabel('Value of X')\n",
    "    ax.set_ylabel('Value of Y')\n",
    "    ax.set_title('Scatter plot of Y on X with two fitted regression lines')\n",
    "    #set display range\n",
    "    xoutness = 0.25*(xmax-xmin)\n",
    "    youtness = 0.25*(ymax-ymin)\n",
    "    ax.set_xlim(xmin-xoutness, xmax+xoutness)\n",
    "    ax.set_ylim(ymin-youtness, ymax+youtness)\n",
    "    #just copy and paste, unknown its effect.\n",
    "    ax.legend()\n",
    "    plt.tight_layout()"
   ]
  },
  {
   "cell_type": "markdown",
   "metadata": {},
   "source": [
    "### Draw the two fitted lines.\n",
    "Copy the result from LSLF from output of HW4 and use it as input in the drawing function.\n",
    "<br>\n",
    "As a result, we can see that two fitted lines overlap. Thus, for the purpose of fitting points in 2D, the SVD method and LS method are equivalent."
   ]
  },
  {
   "cell_type": "code",
   "execution_count": 272,
   "metadata": {},
   "outputs": [
    {
     "data": {
      "image/png": "[encoded data removed]",
      "text/plain": [
       "<Figure size 576x576 with 1 Axes>"
      ]
     },
     "metadata": {},
     "output_type": "display_data"
    }
   ],
   "source": [
    "nbaLsFit = [0.032107292591119135,0.5000333333333333]\n",
    "drawTwoFitLine(nbaData,nbaLsFit,nbaSvdFitted,\"LS Fit\",\"SVD Fit\")"
   ]
  },
  {
   "cell_type": "markdown",
   "metadata": {},
   "source": [
    "## Question 2: Blog Rank\n",
    "Rank Blogs in blog.csv using page rank algorithm. Below is some guidance:\n",
    "<br>\n",
    "• The csv file stores more than 1000 blogs that are linked to each other. \n",
    "For example, the first 3\n",
    "rows says that Blog 267 has links to blog 1394, 483, and 1051.\n",
    "<br>\n",
    "• You will need to build the binary adjacency matrix first. Then compute the stochastic matrix where δ = 0.85.\n",
    "<br>\n",
    "• Use the power method to find the score vector, call it SV. Your power method terminates when\n",
    "SV[i] is changing less then ε = 10−10 for each entry i.\n",
    "<br>\n",
    "Make sure you have lots of comments and explanations in your notebook. You need to return the top 10 blog ID in the end."
   ]
  },
  {
   "cell_type": "code",
   "execution_count": 540,
   "metadata": {},
   "outputs": [
    {
     "data": {
      "text/plain": [
       "0    1394\n",
       "1     483\n",
       "2    1051\n",
       "3    1479\n",
       "4     919\n",
       "5    1045\n",
       "6    1330\n",
       "7    1108\n",
       "8     995\n",
       "9     963\n",
       "Name: 1, dtype: int64"
      ]
     },
     "execution_count": 540,
     "metadata": {},
     "output_type": "execute_result"
    }
   ],
   "source": [
    "#read in the csv file.\n",
    "blogs = pd.read_csv(\"./blog.csv\",header=None)\n",
    "blogs[1].head(10)\n"
   ]
  },
  {
   "cell_type": "markdown",
   "metadata": {},
   "source": [
    "Since there are unknown number of blogs, so we first need to know the total number of blogs so as to create the matrix A. And there are only two choices, so we can just find the bigger value by inspection.\n",
    "<br>\n",
    "Then use an empty matrix to construct the matrix A, by assign 1 to the position indicated in data file.\n",
    "<br>\n",
    "After we got A, we need to nromalize it so as to have a stochastic matrix B, such that we can add the damping factor into account.\n",
    "<br>\n",
    "Finally, with necessary elements in hand, it is easy to follow the formula to compute the matrix M."
   ]
  },
  {
   "cell_type": "code",
   "execution_count": 542,
   "metadata": {},
   "outputs": [
    {
     "name": "stdout",
     "output_type": "stream",
     "text": [
      "1.0\n"
     ]
    }
   ],
   "source": [
    "#build the adjancy matrix A, then normalize it to get B.\n",
    "numberOfBlogs = blogs.max()[0] #1490\n",
    "#build a zero matrix:\n",
    "A = np.zeros((numberOfBlogs,numberOfBlogs),dtype=np.float32) #1490*1490\n",
    "#iterate the column 1 in blogs\n",
    "prev = -1\n",
    "for i in range(len(blogs[0])):\n",
    "    colPos = blogs[0][i]\n",
    "    rowPos = blogs[1][i]\n",
    "    A[rowPos-1,colPos-1] = 1\n",
    "#Get B from A\n",
    "#use a new copy of matrix A to construct the B, without self reference happens.\n",
    "Ap = A.copy()\n",
    "#A.T is used becaue the for-each loop, will extract row-wise.\n",
    "for i in range(A.shape[1]):\n",
    "    # get the sum of each column, use it to get the value in each col of B\n",
    "    s = np.sum(A[:,i])\n",
    "    # to account for divided by zero, we add one checking step.\n",
    "    if s != 0:\n",
    "        Ap[:,i] = A[:,i]/s\n",
    "#get the matrix M\n",
    "damp = 0.85\n",
    "M = damp*Ap + (1-damp)/numberOfBlogs*np.ones((numberOfBlogs,numberOfBlogs))\n",
    "\n"
   ]
  },
  {
   "cell_type": "markdown",
   "metadata": {},
   "source": [
    "To use the power method, is to iteratively find the stable state vector when given certain threshold of variance. \n",
    "<br>\n",
    "First of all, we need to pick the starting point, assign SV to have equal chance of clicking a blog to start.\n",
    "<br>\n",
    "Then use the iterative method to compute the next SV, then compare with the threashold of error.\n",
    "<br>\n",
    "In computing the new state vector, I use the damped matrix M, which will give a sufficient good result."
   ]
  },
  {
   "cell_type": "code",
   "execution_count": 545,
   "metadata": {},
   "outputs": [],
   "source": [
    "threashold = 10**(-10)\n",
    "SV = np.array([np.ones(numberOfBlogs)/numberOfBlogs]).T\n",
    "while True:\n",
    "    prev = SV\n",
    "    SV = M@prev/np.linalg.norm(M@prev)\n",
    "    if np.allclose(prev,SV,rtol=0,atol=threashold):\n",
    "        break"
   ]
  },
  {
   "cell_type": "markdown",
   "metadata": {},
   "source": [
    "Get the corresponding blogs in top ten rank."
   ]
  },
  {
   "cell_type": "code",
   "execution_count": 544,
   "metadata": {},
   "outputs": [
    {
     "data": {
      "text/plain": [
       "array([ 154,   54, 1050,  640,  728, 1152,  854, 1158, 1292,  322])"
      ]
     },
     "execution_count": 544,
     "metadata": {},
     "output_type": "execute_result"
    }
   ],
   "source": [
    "SV.T.argsort()[0][::-1][:10]"
   ]
  }
 ],
 "metadata": {
  "kernelspec": {
   "display_name": "Python 3",
   "language": "python",
   "name": "python3"
  },
  "language_info": {
   "codemirror_mode": {
    "name": "ipython",
    "version": 3
   },
   "file_extension": ".py",
   "mimetype": "text/x-python",
   "name": "python",
   "nbconvert_exporter": "python",
   "pygments_lexer": "ipython3",
   "version": "3.6.5"
  }
 },
 "nbformat": 4,
 "nbformat_minor": 2
}
