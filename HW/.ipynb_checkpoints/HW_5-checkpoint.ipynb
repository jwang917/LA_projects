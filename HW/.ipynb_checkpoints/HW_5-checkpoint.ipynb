{
 "cells": [
  {
   "cell_type": "markdown",
   "metadata": {},
   "source": [
    "# Python problems"
   ]
  },
  {
   "cell_type": "markdown",
   "metadata": {},
   "source": [
    "## Question 1: function SVDLF()\n",
    "Write a python function SVDLF(filename) to find the best fit line in the sense of SVD to a set of data consisting of paired observations in the form (x; y).\n",
    "<br/>\n",
    "Apply SVDLF and LSLF (from hw4) on nba.txt, and plot both lines, as well as the points in the same figure. Make sure you have appropriate legend to mark which line is which."
   ]
  },
  {
   "cell_type": "markdown",
   "metadata": {},
   "source": [
    "Solve this problem need proper input, which will be the filename. I will use pandas.read_csv to get the content from it;I need to get the data in matrix form, I will need to mannually add a constant column with 1 in the A matrix, and make both matrix in the long slim shape; I need to be able compute Z,E,U w.r.t the input matrix, which need to compute At\\*A's singular values to get E, need to compute the orthogonal diagonalization vector v1,v2 to construct V and need to compute Avi to get the corresponding ui. "
   ]
  },
  {
   "cell_type": "markdown",
   "metadata": {},
   "source": [
    "### There is something should be cautious:\n",
    "The order of singular values in diagonal entries of E should be decreasing.\n",
    "And the value of singular entries should be nonzero.\n",
    "<br>\n"
   ]
  },
  {
   "cell_type": "code",
   "execution_count": 89,
   "metadata": {},
   "outputs": [],
   "source": [
    "import pandas as pd\n",
    "import numpy as np\n",
    "# To set the skeleton of function SVDLF()\n",
    "def SVDLF(filename):\n",
    "    #read file \n",
    "    with open(filename) as f:\n",
    "        contents = pd.read_csv(filename)\n",
    "    #get yVec and A\n",
    "    yVec = contents.y\n",
    "    xVec = contents.x\n",
    "    ones = [1 for i in range(len(xVec))]\n",
    "    ones = pd.Series(ones)\n",
    "    #join xVec with ones\n",
    "    A = pd.concat([xVec,ones],axis=1)\n",
    "    #get At, AtA; \n",
    "    At = A.T\n",
    "    AtA = At@A\n",
    "    #compute eigenvalue, eigenvectors\n",
    "    #return a tuple,(a list of eigenvalues,a list of eigenvectors)\n",
    "    eigRes = np.linalg.eig(AtA)\n",
    "    eigVal = eigRes[0]\n",
    "    eigVec = np.array(eigRes[1])\n",
    "    #check eigenvectors orthogonality.\n",
    "    if( np.dot(eigVec[0],eigVec[1])!=0):\n",
    "        othEig = []\n",
    "        for i in range(len(eigVec)):\n",
    "            if i ==0 :\n",
    "                u = eigVec[i]\n",
    "                othEig.append(u)\n",
    "                continue\n",
    "            else:\n",
    "                v = eigVec[i]\n",
    "                for j in range(i-1):\n",
    "                    u = eigVec[j]\n",
    "                    u = v - (np.dot(v,u)/(np.linalg.norm(u)**2))*u\n",
    "                othEig.append(u)"
   ]
  },
  {
   "cell_type": "code",
   "execution_count": 90,
   "metadata": {},
   "outputs": [],
   "source": [
    "#use nba.txt as test file.\n",
    "nbaFile = \"/Users/jw/classes/msan502/data/nba.txt\"\n",
    "SVDLF(nbaFile)"
   ]
  },
  {
   "cell_type": "code",
   "execution_count": 91,
   "metadata": {},
   "outputs": [],
   "source": [
    "# a simple function to compute the orthogonal basis of a set of vectors\n",
    "def orthonalize(eigVec):\n",
    "    #check eigenvectors orthogonality.\n",
    "    if( np.dot(eigVec[0],eigVec[1])!=0):\n",
    "        othEig = []\n",
    "        for i in range(len(eigVec)):\n",
    "            if i ==0 :\n",
    "                u = eigVec[i]\n",
    "                othEig.append(u)\n",
    "                continue\n",
    "            else:\n",
    "                v = eigVec[i]\n",
    "                for j in range(i-1):\n",
    "                    u = eigVec[j]\n",
    "                    u = v - (np.dot(v,u)/(np.linalg.norm(u)**2))*u\n",
    "                othEig.append(u)\n",
    "    else:\n",
    "        print(\"It is already orthogonal.\")"
   ]
  },
  {
   "cell_type": "code",
   "execution_count": 25,
   "metadata": {},
   "outputs": [],
   "source": [
    "ones = [1 for i in range(10)]\n",
    "twos = [2 for i in range(10)]"
   ]
  },
  {
   "cell_type": "code",
   "execution_count": 80,
   "metadata": {},
   "outputs": [],
   "source": [
    "ones = pd.Series(ones)\n",
    "twos = pd.Series(twos)\n",
    "oneTwo =[ones,twos]"
   ]
  },
  {
   "cell_type": "code",
   "execution_count": 81,
   "metadata": {},
   "outputs": [],
   "source": [
    "oneTwo = pd.concat(oneTwo,axis=1)\n"
   ]
  },
  {
   "cell_type": "code",
   "execution_count": 88,
   "metadata": {},
   "outputs": [
    {
     "name": "stdout",
     "output_type": "stream",
     "text": [
      "a\n",
      "0\n"
     ]
    }
   ],
   "source": [
    "a = 2\n",
    "while(a!=0):\n",
    "    a-=1\n",
    "for i in range(1):\n",
    "    print(\"a\")\n",
    "print(i)"
   ]
  },
  {
   "cell_type": "code",
   "execution_count": 82,
   "metadata": {},
   "outputs": [
    {
     "data": {
      "text/plain": [
       "array([2, 4, 6, 8])"
      ]
     },
     "execution_count": 82,
     "metadata": {},
     "output_type": "execute_result"
    }
   ],
   "source": [
    "a=np.array([1,2,3,4])\n",
    "a*2"
   ]
  },
  {
   "cell_type": "code",
   "execution_count": null,
   "metadata": {},
   "outputs": [],
   "source": []
  }
 ],
 "metadata": {
  "kernelspec": {
   "display_name": "Python 3",
   "language": "python",
   "name": "python3"
  },
  "language_info": {
   "codemirror_mode": {
    "name": "ipython",
    "version": 3
   },
   "file_extension": ".py",
   "mimetype": "text/x-python",
   "name": "python",
   "nbconvert_exporter": "python",
   "pygments_lexer": "ipython3",
   "version": "3.6.5"
  }
 },
 "nbformat": 4,
 "nbformat_minor": 2
}
