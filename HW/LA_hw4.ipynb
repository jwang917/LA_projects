{
 "cells": [
  {
   "cell_type": "markdown",
   "metadata": {},
   "source": [
    "# Lineal Algebra Homework 4 python parts"
   ]
  },
  {
   "cell_type": "markdown",
   "metadata": {},
   "source": [
    "## Question 1"
   ]
  },
  {
   "cell_type": "markdown",
   "metadata": {},
   "source": [
    "### The LSLF function"
   ]
  },
  {
   "cell_type": "code",
   "execution_count": 3,
   "metadata": {},
   "outputs": [],
   "source": [
    "#new function LSLF: input filename.txt, output: number of the slope, intercept and error\n",
    "import pandas as pd\n",
    "import numpy as np\n",
    "def LSLF(filename):\n",
    "    with open(filename) as f:\n",
    "        contents = pd.read_csv(filename)\n",
    "    #get the x, y vector\n",
    "    colx = np.array(contents['x'])\n",
    "    coly = np.array(contents['y'])\n",
    "    #print(colx.shape)\n",
    "    #make the ones column for intercept variable\n",
    "    one = np.ones(len(colx))\n",
    "    #compute the A,AT,ATb\n",
    "    A = np.stack((colx,one),axis=-1)\n",
    "    #print(A.shape)\n",
    "    At = np.transpose(A)\n",
    "    #print(At.shape)\n",
    "    AtB = np.dot(At,coly)\n",
    "    AtA = np.dot(At,A)\n",
    "    AtAinv = np.linalg.inv(AtA)\n",
    "    #solve for the fitted value\n",
    "    xhat = np.dot(AtAinv,AtB) #as a np.narray\n",
    "    #print(xhat)\n",
    "    slope = xhat[0]\n",
    "    intercept = xhat[1]\n",
    "    print(\"slope is\",slope)\n",
    "    print(\"intercept is \",intercept)\n",
    "    #compute the error by doing projection\n",
    "    colyN = coly - intercept\n",
    "    #print(colyN.shape)\n",
    "    slopeVec = np.array([1,slope])\n",
    "    #build the vector for each point by shifting y coordinate to the intercept\n",
    "    points = np.stack((colx,colyN),axis=-1)\n",
    "    #print(points.shape)\n",
    "    errLs = []\n",
    "    #compute projection\n",
    "    #print(type(points[0]))\n",
    "    #print(slopeVec)\n",
    "    for point in points:\n",
    "        dotProd = np.vdot(slopeVec,point)\n",
    "        normSlop = np.vdot(slope,slope)\n",
    "        proj = (dotProd/normSlop)*point\n",
    "        errVec = point - proj\n",
    "        errNorm2 = np.power(np.linalg.norm(errVec),2)\n",
    "        errLs.append(errNorm2)\n",
    "    #find the least error\n",
    "    epsilon = min(errLs)\n",
    "    #append the error into xhat\n",
    "    xhat = np.hstack((xhat,np.array(epsilon)))\n",
    "    #print(xhat)\n",
    "return xhat"
   ]
  },
  {
   "cell_type": "markdown",
   "metadata": {},
   "source": [
    "### The ploting function to draw scatter plot and the fitted line\n",
    "reference: https://stackoverflow.com/questions/12981696/how-to-draw-line-inside-a-scatter-plot"
   ]
  },
  {
   "cell_type": "code",
   "execution_count": 4,
   "metadata": {},
   "outputs": [],
   "source": [
    "import matplotlib.pyplot as plt \n",
    "def drawReg(data,fit):\n",
    "    #draw the scatter plot of all points\n",
    "    colx = np.array(data['x'])\n",
    "    coly = np.array(data['y'])\n",
    "    #first element is the slope, second element is the y-intercept.\n",
    "    slope = fit[0]\n",
    "    intercept = fit[1]\n",
    "    #set up \n",
    "    fig, ax = plt.subplots(figsize=(8,8))\n",
    "    \n",
    "    plt.scatter(colx,coly,alpha=0.4)\n",
    "    #draw fitted lines using two points.\n",
    "    xmin = np.amin(colx)\n",
    "    xmax = np.amax(colx)\n",
    "    ymin = np.amin(coly)\n",
    "    ymax = np.amax(coly)\n",
    "    ax.plot([xmin,xmax],[intercept+slope*xmin,intercept+slope*xmax],label='Fitted Line')\n",
    "    \n",
    "    #add labels\n",
    "    ax.set_xlabel('Value of X')\n",
    "    ax.set_ylabel('Value of Y')\n",
    "    ax.set_title('Scatter plot of Y on X with fitted regression line')\n",
    "    #set display range\n",
    "    xoutness = 0.25*(xmax-xmin)\n",
    "    youtness = 0.25*(ymax-ymin)\n",
    "    ax.set_xlim(xmin-xoutness, xmax+xoutness)\n",
    "    ax.set_ylim(ymin-youtness, ymax+youtness)\n",
    "    #just copy and paste, unknown its effect.\n",
    "    ax.legend()\n",
    "    plt.tight_layout()"
   ]
  },
  {
   "cell_type": "markdown",
   "metadata": {},
   "source": [
    "### Function to compare result between LSLF and statsmodels.ols"
   ]
  },
  {
   "cell_type": "code",
   "execution_count": 33,
   "metadata": {},
   "outputs": [],
   "source": [
    "import statsmodels.api as stat\n",
    "def compareOLS(data):\n",
    "    xIn =stat.add_constant(data.x)\n",
    "    model = stat.OLS(data.y,xIn)\n",
    "    results = model.fit()\n",
    "    print('Parameters: \\n', results.params)"
   ]
  },
  {
   "cell_type": "markdown",
   "metadata": {},
   "source": [
    "## Question 2"
   ]
  },
  {
   "cell_type": "markdown",
   "metadata": {},
   "source": [
    "### Result of fitted line from Population.txt"
   ]
  },
  {
   "cell_type": "code",
   "execution_count": 7,
   "metadata": {},
   "outputs": [
    {
     "name": "stdout",
     "output_type": "stream",
     "text": [
      "slope is 2002587.090513289\n",
      "intercept is  -3740767381.460449\n"
     ]
    }
   ],
   "source": [
    "popFile = \"/Users/jw/classes/msan502/data/population.txt\"\n",
    "popFitted = LSLF(popFile)\n",
    "popData = pd.read_csv(popFile)"
   ]
  },
  {
   "cell_type": "markdown",
   "metadata": {},
   "source": [
    "### Compare result with OLS"
   ]
  },
  {
   "cell_type": "code",
   "execution_count": 34,
   "metadata": {},
   "outputs": [
    {
     "name": "stdout",
     "output_type": "stream",
     "text": [
      "Parameters: \n",
      " const   -3.740767e+09\n",
      "x        2.002587e+06\n",
      "dtype: float64\n"
     ]
    }
   ],
   "source": [
    "compareOLS(popData)"
   ]
  },
  {
   "cell_type": "markdown",
   "metadata": {},
   "source": [
    "The result is basically the same from OLS's output and my LSLF function's output. So the least square approximation of LSLF is quite accurate."
   ]
  },
  {
   "cell_type": "markdown",
   "metadata": {},
   "source": [
    "### Graph of Population file\n",
    "It is very clear that the points of population between x and y show a good linear relationship. "
   ]
  },
  {
   "cell_type": "code",
   "execution_count": 148,
   "metadata": {},
   "outputs": [
    {
     "data": {
      "image/png": "[encoded data removed]",
      "text/plain": [
       "<Figure size 576x576 with 1 Axes>"
      ]
     },
     "metadata": {},
     "output_type": "display_data"
    }
   ],
   "source": [
    "drawReg(popData,popFitted)"
   ]
  },
  {
   "cell_type": "markdown",
   "metadata": {},
   "source": [
    "### Result of fitted line from NBA.txt"
   ]
  },
  {
   "cell_type": "code",
   "execution_count": 18,
   "metadata": {},
   "outputs": [
    {
     "name": "stdout",
     "output_type": "stream",
     "text": [
      "slope is 0.032107292591119135\n",
      "intercept is  0.5000333333333333\n"
     ]
    }
   ],
   "source": [
    "nbaFile = \"/Users/jw/classes/msan502/data/nba.txt\"\n",
    "nbaFitted = LSLF(nbaFile)\n",
    "nbaData = pd.read_csv(nbaFile)"
   ]
  },
  {
   "cell_type": "markdown",
   "metadata": {},
   "source": [
    "### Compare result with OLS"
   ]
  },
  {
   "cell_type": "code",
   "execution_count": 29,
   "metadata": {},
   "outputs": [
    {
     "name": "stdout",
     "output_type": "stream",
     "text": [
      "Parameters:  const    0.500033\n",
      "x        0.032107\n",
      "dtype: float64\n"
     ]
    }
   ],
   "source": [
    "compareOLS(nbaData)"
   ]
  },
  {
   "cell_type": "markdown",
   "metadata": {},
   "source": [
    "The result is basically the same from OLS's output and my LSLF function's output. So the least square approximation of LSLF is quite accurate."
   ]
  },
  {
   "cell_type": "markdown",
   "metadata": {},
   "source": [
    "### Graph of NBA file\n",
    "From the graph, we can see that the xs and ys in the NBA file show linear relationship.\n"
   ]
  },
  {
   "cell_type": "code",
   "execution_count": 145,
   "metadata": {},
   "outputs": [
    {
     "data": {
      "image/png": "[encoded data removed]",
      "text/plain": [
       "<Figure size 576x576 with 1 Axes>"
      ]
     },
     "metadata": {},
     "output_type": "display_data"
    }
   ],
   "source": [
    "drawReg(nbaData,nbaFitted)"
   ]
  },
  {
   "cell_type": "markdown",
   "metadata": {},
   "source": [
    "### Result of fitted line of TVlife"
   ]
  },
  {
   "cell_type": "code",
   "execution_count": 30,
   "metadata": {},
   "outputs": [
    {
     "name": "stdout",
     "output_type": "stream",
     "text": [
      "slope is 0.03243537362284621\n",
      "intercept is  57.33689873481886\n"
     ]
    }
   ],
   "source": [
    "tvFile = \"/Users/jw/classes/msan502/data/TVlife.txt\"\n",
    "tvFitted = LSLF(tvFile)\n",
    "tvData = pd.read_csv(tvFile)"
   ]
  },
  {
   "cell_type": "markdown",
   "metadata": {},
   "source": [
    "### Graph of TVlife\n",
    "In the graph, the linear relationship  between x and y is not very clear, since there are outliers around x=0.\n",
    "But the fitted line capture most of the points. "
   ]
  },
  {
   "cell_type": "code",
   "execution_count": 146,
   "metadata": {},
   "outputs": [
    {
     "data": {
      "image/png": "[encoded data removed]",
      "text/plain": [
       "<Figure size 576x576 with 1 Axes>"
      ]
     },
     "metadata": {},
     "output_type": "display_data"
    }
   ],
   "source": [
    "drawReg(tvData,tvFitted)"
   ]
  },
  {
   "cell_type": "markdown",
   "metadata": {},
   "source": [
    "### compare results with statsmodels.ols"
   ]
  },
  {
   "cell_type": "code",
   "execution_count": 31,
   "metadata": {},
   "outputs": [
    {
     "name": "stdout",
     "output_type": "stream",
     "text": [
      "Parameters:  const    57.336899\n",
      "x         0.032435\n",
      "dtype: float64\n"
     ]
    }
   ],
   "source": [
    "compareOLS(tvData)"
   ]
  },
  {
   "cell_type": "markdown",
   "metadata": {},
   "source": [
    "The result is basically the same from OLS's output and my LSLF function's output. So the least square approximation of LSLF is quite accurate."
   ]
  },
  {
   "cell_type": "markdown",
   "metadata": {},
   "source": [
    "## Question 3"
   ]
  },
  {
   "cell_type": "code",
   "execution_count": 294,
   "metadata": {},
   "outputs": [],
   "source": [
    "def MyReg(df,r):\n",
    "    #randomly select 100r% rows in df.\n",
    "    trainSet = df.sample(frac=r, replace=False,axis=0)\n",
    "    testSet = df.loc[~df.index.isin(trainSet.index)]\n",
    "    #change trainSet into proper matrix form\n",
    "    trainSet = np.array(trainSet)\n",
    "    testSet = np.array(testSet)\n",
    "    #take out the y varable.\n",
    "    A = trainSet[:,:-1]\n",
    "    y = trainSet[:,-1]\n",
    "    #turn the vector y into column vector shape\n",
    "    ymat = np.matrix(y).T\n",
    "    ymat = np.array(ymat)\n",
    "    #print(ymat.shape,'shape',type(ymat))\n",
    "    #add the constant column\n",
    "    one = np.matrix(np.ones(len(A))).T\n",
    "    one = np.array(one)\n",
    "    A = np.hstack((one,A))\n",
    "    #print(A.shape,'shape\\n',type(A),'type')\n",
    "    #Use the normal equation to solve for the least square approximation w\n",
    "    At = np.transpose(A)\n",
    "    AtA = At@A\n",
    "    #print(A.shape,'\\nata shape',AtA.shape)\n",
    "    Aty = At@ymat\n",
    "    w = np.linalg.solve(AtA,Aty)\n",
    "    #get the lost\n",
    "    Aw = A@w\n",
    "    #print(Aw)\n",
    "    Aw_y = Aw - ymat\n",
    "    #print(Aw_y)\n",
    "    norm = (np.linalg.norm(Aw_y))**2\n",
    "    #use a list to store the result of Aw and norm\n",
    "    return [w,norm]"
   ]
  },
  {
   "cell_type": "markdown",
   "metadata": {},
   "source": [
    "Prepare the test matrix with columns as turnovers,pts,PM and WinPct."
   ]
  },
  {
   "cell_type": "code",
   "execution_count": 301,
   "metadata": {},
   "outputs": [],
   "source": [
    "def plotLost(r,end,times,dataset):\n",
    "    lost = []\n",
    "    R = []\n",
    "    for i in range(times):\n",
    "        rnew = r+i*end/times\n",
    "        R.append(rnew)\n",
    "        lost.append(MyReg(dataset,rnew)[1])\n",
    "    plt.scatter(R,lost,alpha=0.8)"
   ]
  },
  {
   "cell_type": "code",
   "execution_count": 302,
   "metadata": {},
   "outputs": [
    {
     "data": {
      "image/png": "[encoded data removed]",
      "text/plain": [
       "<Figure size 432x288 with 1 Axes>"
      ]
     },
     "metadata": {},
     "output_type": "display_data"
    }
   ],
   "source": [
    "nbaAnalysisData = nbaData[['Losses','turnovers','pts','PM','WinPct']]\n",
    "trainResult = MyReg(nbaAnalysisData,0.1)\n",
    "plotLost(0.1,1,10,nbaAnalysisData)"
   ]
  },
  {
   "cell_type": "markdown",
   "metadata": {},
   "source": [
    "The graph shows no relation between the Lost value and the trainning percentage of r. In the sense of increasing trainning set propotion, the error of the result of linear regression model did not change."
   ]
  }
 ],
 "metadata": {
  "kernelspec": {
   "display_name": "Python 3",
   "language": "python",
   "name": "python3"
  },
  "language_info": {
   "codemirror_mode": {
    "name": "ipython",
    "version": 3
   },
   "file_extension": ".py",
   "mimetype": "text/x-python",
   "name": "python",
   "nbconvert_exporter": "python",
   "pygments_lexer": "ipython3",
   "version": "3.6.5"
  }
 },
 "nbformat": 4,
 "nbformat_minor": 2
}
