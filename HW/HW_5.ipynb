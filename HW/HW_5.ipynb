{
 "cells": [
  {
   "cell_type": "markdown",
   "metadata": {},
   "source": [
    "# Python problems"
   ]
  },
  {
   "cell_type": "markdown",
   "metadata": {},
   "source": [
    "## Question 1: function SVDLF()\n",
    "Write a python function SVDLF(filename) to find the best fit line in the sense of SVD to a set of data consisting of paired observations in the form (x; y).\n",
    "<br/>\n",
    "Apply SVDLF and LSLF (from hw4) on nba.txt, and plot both lines, as well as the points in the same figure. Make sure you have appropriate legend to mark which line is which."
   ]
  },
  {
   "cell_type": "markdown",
   "metadata": {},
   "source": [
    "Solve this problem need proper input, which will be the filename. I will use pandas.read_csv to get the content from it;I need to get the data in matrix form, I will need to mannually add a constant column with 1 in the A matrix, and make both matrix in the long slim shape; I need to be able compute Z,E,U w.r.t the input matrix, which need to compute At\\*A's singular values to get E, need to compute the orthogonal diagonalization vector v1,v2 to construct V and need to compute Avi to get the corresponding ui. "
   ]
  },
  {
   "cell_type": "markdown",
   "metadata": {},
   "source": [
    "### There is something should be cautious:\n",
    "The order of singular values in diagonal entries of E should be decreasing.\n",
    "And the value of singular entries should be nonzero.\n",
    "<br>\n"
   ]
  },
  {
   "cell_type": "code",
   "execution_count": 2,
   "metadata": {},
   "outputs": [],
   "source": [
    "import pandas as pd\n",
    "import numpy as np\n",
    "# To set the skeleton of function SVDLF()\n",
    "def SVDLF(filename):\n",
    "    #read file \n",
    "    with open(filename) as f:\n",
    "        contents = pd.read_csv(filename)\n",
    "    #get yVec and A\n",
    "    "
   ]
  },
  {
   "cell_type": "code",
   "execution_count": 3,
   "metadata": {},
   "outputs": [],
   "source": [
    "#use nba.txt as test file.\n",
    "nbaFile = \"/Users/jw/classes/msan502/data/nba.txt\"\n",
    "SVDLF(nbaFile)"
   ]
  },
  {
   "cell_type": "code",
   "execution_count": null,
   "metadata": {},
   "outputs": [],
   "source": []
  }
 ],
 "metadata": {
  "kernelspec": {
   "display_name": "Python 3",
   "language": "python",
   "name": "python3"
  },
  "language_info": {
   "codemirror_mode": {
    "name": "ipython",
    "version": 3
   },
   "file_extension": ".py",
   "mimetype": "text/x-python",
   "name": "python",
   "nbconvert_exporter": "python",
   "pygments_lexer": "ipython3",
   "version": "3.6.5"
  }
 },
 "nbformat": 4,
 "nbformat_minor": 2
}
